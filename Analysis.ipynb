{
 "cells": [
  {
   "cell_type": "markdown",
   "metadata": {},
   "source": [
    "### Introduction\n",
    "The goal of this analysis is to explore the impact of climate on corn yields. The drivers of corn yields variability include but not limit to climate, technology, fertilizer application and soil management. Firstly, county-level corn yields are adjusted to account for all other non-climate confounders. Then a GBM model is built to estimate the effect of climate factors on corn production. Last but not least, several important climate factors are identified."
   ]
  },
  {
   "cell_type": "code",
   "execution_count": 1,
   "metadata": {},
   "outputs": [],
   "source": [
    "import numpy as np\n",
    "import pandas as pd\n",
    "import matplotlib.pyplot as plt\n",
    "%matplotlib inline"
   ]
  },
  {
   "cell_type": "code",
   "execution_count": 2,
   "metadata": {},
   "outputs": [],
   "source": [
    "from sklearn.linear_model import LinearRegression\n",
    "from sklearn.model_selection import train_test_split\n",
    "from sklearn.ensemble import GradientBoostingRegressor\n",
    "from sklearn.metrics import mean_squared_error\n",
    "from sklearn.model_selection import GridSearchCV\n",
    "from sklearn.ensemble.partial_dependence import plot_partial_dependence"
   ]
  },
  {
   "cell_type": "markdown",
   "metadata": {},
   "source": [
    "### Data Prep \n",
    "To account for the effect of all non-climate factors on corn production, a simple linear regression model is built at county level for every county, with corn yield being the dependent variable and time(year) being the independent variable. Non-climate factors include technology, fertilizer application and soil management. Time can be seen as a proxy for these factors because these factors usually progress as time goes by. The fitted yields are subtracted from original values."
   ]
  },
  {
   "cell_type": "code",
   "execution_count": 3,
   "metadata": {},
   "outputs": [],
   "source": [
    "common_data = pd.read_csv(\"./common_data.csv\")\n",
    "daily_obs = pd.read_csv(\"./daily_observations.csv\")\n",
    "annual_yields = pd.read_csv(\"./annual_yields.csv\")"
   ]
  },
  {
   "cell_type": "code",
   "execution_count": 4,
   "metadata": {},
   "outputs": [],
   "source": [
    "def get_fitted_yield(df):\n",
    "    temp = df.loc[df['yield'].notna()]\n",
    "    lr = LinearRegression().fit(np.array(temp['year']).reshape((-1, 1)), temp['yield'])\n",
    "    return pd.Series(lr.predict(np.array(df['year']).reshape((-1, 1))).round(1), index=df['year'], name='fitted_yield')"
   ]
  },
  {
   "cell_type": "code",
   "execution_count": 5,
   "metadata": {},
   "outputs": [],
   "source": [
    "fitted_yield = common_data.groupby('adm2_code').apply(get_fitted_yield).reset_index()\n",
    "\n",
    "common_data = pd.merge(common_data, fitted_yield, how = 'inner', on = ['adm2_code', 'year'])"
   ]
  },
  {
   "cell_type": "code",
   "execution_count": 6,
   "metadata": {},
   "outputs": [],
   "source": [
    "common_data['yield_residual'] = common_data['yield'] - common_data['fitted_yield']"
   ]
  },
  {
   "cell_type": "code",
   "execution_count": 22,
   "metadata": {},
   "outputs": [
    {
     "data": {
      "text/plain": [
       "LinearRegression(copy_X=True, fit_intercept=True, n_jobs=1, normalize=False)"
      ]
     },
     "execution_count": 22,
     "metadata": {},
     "output_type": "execute_result"
    }
   ],
   "source": [
    "temp = common_data.loc[common_data['adm2_code'] == 'US01049'][['year', 'yield']]\n",
    "temp.dropna(axis=0, inplace=True)\n",
    "lr = LinearRegression()\n",
    "lr.fit(np.array(temp['year']).reshape((-1, 1)), temp['yield'])"
   ]
  },
  {
   "cell_type": "code",
   "execution_count": 27,
   "metadata": {},
   "outputs": [
    {
     "data": {
      "text/plain": [
       "[<matplotlib.lines.Line2D at 0x1e321cbff28>]"
      ]
     },
     "execution_count": 27,
     "metadata": {},
     "output_type": "execute_result"
    },
    {
     "data": {
      "image/png": "[encoded data removed]",
      "text/plain": [
       "<Figure size 432x288 with 1 Axes>"
      ]
     },
     "metadata": {},
     "output_type": "display_data"
    }
   ],
   "source": [
    "plt.scatter(temp['year'], temp['yield'])\n",
    "plt.plot(temp['year'], temp['yield'])\n",
    "plt.plot(np.arange(2003, 2018), lr.predict(np.arange(2003, 2018).reshape((-1, 1))))"
   ]
  },
  {
   "cell_type": "markdown",
   "metadata": {},
   "source": [
    "### Feature Engineering\n",
    "Climate features are aggregated at county level. Firstly, daily observations not in growing season are removed from the data set. For each climate factor, the minimum/maximum/mean/sum values during growing seasons are recorded, if appropriate."
   ]
  },
  {
   "cell_type": "code",
   "execution_count": 7,
   "metadata": {},
   "outputs": [],
   "source": [
    "obs = pd.merge(daily_obs, common_data, how = 'left', on = ['year', 'adm2_code'])\n",
    "\n",
    "obs = obs.loc[(obs['doy'] >= obs['phen_gup']) & (obs['doy'] <= obs['phen_dor'])]"
   ]
  },
  {
   "cell_type": "code",
   "execution_count": 8,
   "metadata": {
    "scrolled": true
   },
   "outputs": [],
   "source": [
    "obs = obs.groupby(['adm2_code', 'year']).\\\n",
    "          agg({'met_avg_t': [np.min, np.max, np.mean], \n",
    "               'met_extreme_cold': np.sum,\n",
    "               'met_extreme_hot1': np.sum,\n",
    "               'met_extreme_hot2': np.sum,\n",
    "               'met_gdd': np.sum,\n",
    "               'met_max_rh': [np.min, np.max, np.mean],\n",
    "               'met_max_t': [np.min, np.max, np.mean],\n",
    "               'met_max_vpd': [np.min, np.max, np.mean],\n",
    "               'met_min_t': [np.min, np.max, np.mean],\n",
    "               'met_p_mm': [np.max, np.mean],\n",
    "               'met_sh': [np.min, np.max, np.mean],\n",
    "               'met_sr_wm2': np.sum,\n",
    "               'mod_evi': np.mean,\n",
    "               'mod_lst_day': [np.min, np.max, np.mean],\n",
    "               'mod_lst_night': [np.min, np.max, np.mean],\n",
    "               'mod_nbar_1': [np.min, np.max, np.mean],\n",
    "               'mod_nbar_2': [np.min, np.max, np.mean],\n",
    "               'mod_nbar_3': [np.min, np.max, np.mean],\n",
    "               'mod_nbar_4': [np.min, np.max, np.mean],\n",
    "               'mod_nbar_5': [np.min, np.max, np.mean],\n",
    "               'mod_nbar_6': [np.min, np.max, np.mean],\n",
    "               'mod_nbar_7': [np.min, np.max, np.mean],\n",
    "               'mod_ndvi': [np.min, np.max, np.mean]})"
   ]
  },
  {
   "cell_type": "code",
   "execution_count": 9,
   "metadata": {},
   "outputs": [],
   "source": [
    "obs.columns = ['_'.join(x).strip('_') for x in obs.columns.ravel()]\n",
    "obs.reset_index(inplace=True)"
   ]
  },
  {
   "cell_type": "code",
   "execution_count": 10,
   "metadata": {},
   "outputs": [],
   "source": [
    "obs.sort_values(['adm2_code', 'year'], inplace=True)"
   ]
  },
  {
   "cell_type": "code",
   "execution_count": 3,
   "metadata": {},
   "outputs": [],
   "source": [
    "# common_data.to_csv(\"./common_data_ver02.csv\")\n",
    "# obs.to_csv(\"./obs.csv\")\n",
    "\n",
    "# common_data = pd.read_csv(\"./common_data_ver02.csv\")\n",
    "# obs = pd.read_csv(\"./obs.csv\")\n",
    "df = pd.merge(common_data, obs, on = ['adm2_code', 'year'])\n",
    "\n",
    "# df.drop(['Unnamed: 0_x', 'Unnamed: 0_y'], axis = 1, inplace=True)"
   ]
  },
  {
   "cell_type": "code",
   "execution_count": 4,
   "metadata": {},
   "outputs": [
    {
     "data": {
      "text/html": [
       "<div>\n",
       "<style scoped>\n",
       "    .dataframe tbody tr th:only-of-type {\n",
       "        vertical-align: middle;\n",
       "    }\n",
       "\n",
       "    .dataframe tbody tr th {\n",
       "        vertical-align: top;\n",
       "    }\n",
       "\n",
       "    .dataframe thead th {\n",
       "        text-align: right;\n",
       "    }\n",
       "</style>\n",
       "<table border=\"1\" class=\"dataframe\">\n",
       "  <thead>\n",
       "    <tr style=\"text-align: right;\">\n",
       "      <th></th>\n",
       "      <th>adm2_code</th>\n",
       "      <th>adm1_code</th>\n",
       "      <th>year</th>\n",
       "      <th>yield</th>\n",
       "      <th>area_harvested_obs</th>\n",
       "      <th>phen_gup</th>\n",
       "      <th>phen_dor</th>\n",
       "      <th>fitted_yield</th>\n",
       "      <th>yield_residual</th>\n",
       "      <th>met_avg_t_amin</th>\n",
       "      <th>...</th>\n",
       "      <th>mod_nbar_5_mean</th>\n",
       "      <th>mod_nbar_6_amin</th>\n",
       "      <th>mod_nbar_6_amax</th>\n",
       "      <th>mod_nbar_6_mean</th>\n",
       "      <th>mod_nbar_7_amin</th>\n",
       "      <th>mod_nbar_7_amax</th>\n",
       "      <th>mod_nbar_7_mean</th>\n",
       "      <th>mod_ndvi_amin</th>\n",
       "      <th>mod_ndvi_amax</th>\n",
       "      <th>mod_ndvi_mean</th>\n",
       "    </tr>\n",
       "  </thead>\n",
       "  <tbody>\n",
       "    <tr>\n",
       "      <th>0</th>\n",
       "      <td>US01031</td>\n",
       "      <td>US01</td>\n",
       "      <td>2003</td>\n",
       "      <td>123.0</td>\n",
       "      <td>5500.0</td>\n",
       "      <td>72</td>\n",
       "      <td>295</td>\n",
       "      <td>103.6</td>\n",
       "      <td>19.4</td>\n",
       "      <td>279.29572</td>\n",
       "      <td>...</td>\n",
       "      <td>0.383032</td>\n",
       "      <td>0.242370</td>\n",
       "      <td>0.359690</td>\n",
       "      <td>0.294719</td>\n",
       "      <td>0.11175</td>\n",
       "      <td>0.234810</td>\n",
       "      <td>0.167882</td>\n",
       "      <td>0.453069</td>\n",
       "      <td>0.728950</td>\n",
       "      <td>0.582226</td>\n",
       "    </tr>\n",
       "    <tr>\n",
       "      <th>1</th>\n",
       "      <td>US01031</td>\n",
       "      <td>US01</td>\n",
       "      <td>2004</td>\n",
       "      <td>111.0</td>\n",
       "      <td>6900.0</td>\n",
       "      <td>72</td>\n",
       "      <td>295</td>\n",
       "      <td>102.3</td>\n",
       "      <td>8.7</td>\n",
       "      <td>280.42957</td>\n",
       "      <td>...</td>\n",
       "      <td>0.381888</td>\n",
       "      <td>0.244594</td>\n",
       "      <td>0.372859</td>\n",
       "      <td>0.305693</td>\n",
       "      <td>0.11848</td>\n",
       "      <td>0.258459</td>\n",
       "      <td>0.178722</td>\n",
       "      <td>0.394642</td>\n",
       "      <td>0.746574</td>\n",
       "      <td>0.567168</td>\n",
       "    </tr>\n",
       "    <tr>\n",
       "      <th>2</th>\n",
       "      <td>US01031</td>\n",
       "      <td>US01</td>\n",
       "      <td>2005</td>\n",
       "      <td>127.0</td>\n",
       "      <td>6000.0</td>\n",
       "      <td>72</td>\n",
       "      <td>295</td>\n",
       "      <td>101.1</td>\n",
       "      <td>25.9</td>\n",
       "      <td>283.24622</td>\n",
       "      <td>...</td>\n",
       "      <td>0.380605</td>\n",
       "      <td>0.237850</td>\n",
       "      <td>0.360430</td>\n",
       "      <td>0.293601</td>\n",
       "      <td>0.09699</td>\n",
       "      <td>0.249910</td>\n",
       "      <td>0.166506</td>\n",
       "      <td>0.420422</td>\n",
       "      <td>0.785504</td>\n",
       "      <td>0.585358</td>\n",
       "    </tr>\n",
       "    <tr>\n",
       "      <th>3</th>\n",
       "      <td>US01031</td>\n",
       "      <td>US01</td>\n",
       "      <td>2006</td>\n",
       "      <td>85.0</td>\n",
       "      <td>5600.0</td>\n",
       "      <td>72</td>\n",
       "      <td>295</td>\n",
       "      <td>99.9</td>\n",
       "      <td>-14.9</td>\n",
       "      <td>279.67178</td>\n",
       "      <td>...</td>\n",
       "      <td>0.386895</td>\n",
       "      <td>0.252522</td>\n",
       "      <td>0.376950</td>\n",
       "      <td>0.314021</td>\n",
       "      <td>0.12675</td>\n",
       "      <td>0.267500</td>\n",
       "      <td>0.202066</td>\n",
       "      <td>0.410391</td>\n",
       "      <td>0.724180</td>\n",
       "      <td>0.535076</td>\n",
       "    </tr>\n",
       "    <tr>\n",
       "      <th>4</th>\n",
       "      <td>US01031</td>\n",
       "      <td>US01</td>\n",
       "      <td>2007</td>\n",
       "      <td>73.0</td>\n",
       "      <td>8300.0</td>\n",
       "      <td>72</td>\n",
       "      <td>295</td>\n",
       "      <td>98.6</td>\n",
       "      <td>-25.6</td>\n",
       "      <td>278.24840</td>\n",
       "      <td>...</td>\n",
       "      <td>0.383400</td>\n",
       "      <td>0.256090</td>\n",
       "      <td>0.379590</td>\n",
       "      <td>0.306551</td>\n",
       "      <td>0.13142</td>\n",
       "      <td>0.266640</td>\n",
       "      <td>0.186277</td>\n",
       "      <td>0.409932</td>\n",
       "      <td>0.725044</td>\n",
       "      <td>0.553988</td>\n",
       "    </tr>\n",
       "  </tbody>\n",
       "</table>\n",
       "<p>5 rows × 65 columns</p>\n",
       "</div>"
      ],
      "text/plain": [
       "  adm2_code adm1_code  year  yield  area_harvested_obs  phen_gup  phen_dor  \\\n",
       "0   US01031      US01  2003  123.0              5500.0        72       295   \n",
       "1   US01031      US01  2004  111.0              6900.0        72       295   \n",
       "2   US01031      US01  2005  127.0              6000.0        72       295   \n",
       "3   US01031      US01  2006   85.0              5600.0        72       295   \n",
       "4   US01031      US01  2007   73.0              8300.0        72       295   \n",
       "\n",
       "   fitted_yield  yield_residual  met_avg_t_amin      ...        \\\n",
       "0         103.6            19.4       279.29572      ...         \n",
       "1         102.3             8.7       280.42957      ...         \n",
       "2         101.1            25.9       283.24622      ...         \n",
       "3          99.9           -14.9       279.67178      ...         \n",
       "4          98.6           -25.6       278.24840      ...         \n",
       "\n",
       "   mod_nbar_5_mean  mod_nbar_6_amin  mod_nbar_6_amax  mod_nbar_6_mean  \\\n",
       "0         0.383032         0.242370         0.359690         0.294719   \n",
       "1         0.381888         0.244594         0.372859         0.305693   \n",
       "2         0.380605         0.237850         0.360430         0.293601   \n",
       "3         0.386895         0.252522         0.376950         0.314021   \n",
       "4         0.383400         0.256090         0.379590         0.306551   \n",
       "\n",
       "   mod_nbar_7_amin  mod_nbar_7_amax  mod_nbar_7_mean  mod_ndvi_amin  \\\n",
       "0          0.11175         0.234810         0.167882       0.453069   \n",
       "1          0.11848         0.258459         0.178722       0.394642   \n",
       "2          0.09699         0.249910         0.166506       0.420422   \n",
       "3          0.12675         0.267500         0.202066       0.410391   \n",
       "4          0.13142         0.266640         0.186277       0.409932   \n",
       "\n",
       "   mod_ndvi_amax  mod_ndvi_mean  \n",
       "0       0.728950       0.582226  \n",
       "1       0.746574       0.567168  \n",
       "2       0.785504       0.585358  \n",
       "3       0.724180       0.535076  \n",
       "4       0.725044       0.553988  \n",
       "\n",
       "[5 rows x 65 columns]"
      ]
     },
     "execution_count": 4,
     "metadata": {},
     "output_type": "execute_result"
    }
   ],
   "source": [
    "df.head()"
   ]
  },
  {
   "cell_type": "code",
   "execution_count": 5,
   "metadata": {},
   "outputs": [],
   "source": [
    "df_2018 = df.loc[df['year'] == 2018]\n",
    "df = df.loc[df['year'] != 2018]"
   ]
  },
  {
   "cell_type": "markdown",
   "metadata": {},
   "source": [
    "### Modeling\n",
    "A GBM model is built to predict 'yield_residual'. GBM is picked for its good performance and its ability to model interactions between different climate factors. Grid search is used to find optimal combination of hyper-parameters. When building a model, 5-fold cross validation is used to reduce overfitting. The best-performing model is evaluated on a hold-out data set for model assessment. The performance of linear regression plus GBM is compared to two benchmark models: 1) multiple linear regression model 2) GBM\n",
    "\n",
    "When tuning the hyper-parameters of a gbm model, for the time constraint, only n_estimators(number of trees) and max_depth(maximum depth of each tree) are tuned in this analysis. In general, other tree specific parameters can also be included. Since GBM is known to be difficult to train, more training time is needed in order to find the optimal hyper-parameters."
   ]
  },
  {
   "cell_type": "code",
   "execution_count": 6,
   "metadata": {},
   "outputs": [],
   "source": [
    "df_train, df_test = train_test_split(df, test_size = 0.2, random_state = 6)"
   ]
  },
  {
   "cell_type": "code",
   "execution_count": 16,
   "metadata": {},
   "outputs": [
    {
     "name": "stdout",
     "output_type": "stream",
     "text": [
      "Fitting 5 folds for each of 18 candidates, totalling 90 fits\n"
     ]
    },
    {
     "name": "stderr",
     "output_type": "stream",
     "text": [
      "[Parallel(n_jobs=-1)]: Done  42 tasks      | elapsed:  5.0min\n",
      "[Parallel(n_jobs=-1)]: Done  90 out of  90 | elapsed: 20.1min finished\n"
     ]
    },
    {
     "data": {
      "text/plain": [
       "GridSearchCV(cv=5, error_score='raise',\n",
       "       estimator=GradientBoostingRegressor(alpha=0.9, criterion='friedman_mse', init=None,\n",
       "             learning_rate=0.05, loss='ls', max_depth=3, max_features=None,\n",
       "             max_leaf_nodes=None, min_impurity_decrease=0.0,\n",
       "             min_impurity_split=None, min_samples_leaf=1,\n",
       "             min_samples_split=2, min_weight_fraction_leaf=0.0,\n",
       "             n_estimators=100, presort='auto', random_state=None,\n",
       "             subsample=1.0, verbose=0, warm_start=False),\n",
       "       fit_params=None, iid=True, n_jobs=-1,\n",
       "       param_grid={'n_estimators': [50, 100, 200, 300, 400, 500], 'max_depth': [3, 4, 5]},\n",
       "       pre_dispatch='2*n_jobs', refit=True, return_train_score=True,\n",
       "       scoring='neg_mean_squared_error', verbose=1)"
      ]
     },
     "execution_count": 16,
     "metadata": {},
     "output_type": "execute_result"
    }
   ],
   "source": [
    "parameters = {'n_estimators': [50, 100, 200, 300, 400, 500],\n",
    "              'max_depth': [3, 4, 5]}\n",
    "\n",
    "gbm_reg = GradientBoostingRegressor(loss = 'ls', learning_rate = 0.05, \n",
    "                                    criterion = 'friedman_mse')\n",
    "\n",
    "grid_search = GridSearchCV(estimator = gbm_reg, param_grid = parameters, \n",
    "                           scoring = 'neg_mean_squared_error', \n",
    "                           n_jobs = -1, verbose = 1, cv = 5, return_train_score = True)\n",
    "\n",
    "grid_search.fit(X = df_train.iloc[:, 9:df_train.shape[1]], \n",
    "                y = df_train.iloc[:, 8])"
   ]
  },
  {
   "cell_type": "code",
   "execution_count": 17,
   "metadata": {},
   "outputs": [
    {
     "data": {
      "text/plain": [
       "{'max_depth': 5, 'n_estimators': 500}"
      ]
     },
     "execution_count": 17,
     "metadata": {},
     "output_type": "execute_result"
    }
   ],
   "source": [
    "grid_search.best_params_"
   ]
  },
  {
   "cell_type": "code",
   "execution_count": 16,
   "metadata": {},
   "outputs": [
    {
     "data": {
      "text/plain": [
       "GradientBoostingRegressor(alpha=0.9, criterion='friedman_mse', init=None,\n",
       "             learning_rate=0.05, loss='ls', max_depth=5, max_features=None,\n",
       "             max_leaf_nodes=None, min_impurity_decrease=0.0,\n",
       "             min_impurity_split=None, min_samples_leaf=1,\n",
       "             min_samples_split=2, min_weight_fraction_leaf=0.0,\n",
       "             n_estimators=500, presort='auto', random_state=None,\n",
       "             subsample=1.0, verbose=0, warm_start=False)"
      ]
     },
     "execution_count": 16,
     "metadata": {},
     "output_type": "execute_result"
    }
   ],
   "source": [
    "best_gbm = GradientBoostingRegressor(n_estimators = 500,  loss = 'ls', \n",
    "                                     learning_rate = 0.05, \n",
    "                                     criterion = 'friedman_mse', max_depth = 5)\n",
    "\n",
    "best_gbm.fit(X = df_train.iloc[:, 9:df_train.shape[1]], y = df_train.iloc[:, 8])"
   ]
  },
  {
   "cell_type": "markdown",
   "metadata": {},
   "source": [
    "Evaluating the model on both training set and hold-out set shows that the model overfits training data."
   ]
  },
  {
   "cell_type": "code",
   "execution_count": 17,
   "metadata": {},
   "outputs": [
    {
     "name": "stdout",
     "output_type": "stream",
     "text": [
      "mse on training set: 72.97545788420813, mse on testing set: 157.8512792487591\n"
     ]
    }
   ],
   "source": [
    "mse_train = mean_squared_error(y_true=df_train.iloc[:,8], y_pred=best_gbm.predict(X = df_train.iloc[:,9:df_train.shape[1]]))\n",
    "mse_test = mean_squared_error(y_true=df_test.iloc[:,8], y_pred=best_gbm.predict(X = df_test.iloc[:,9:df_test.shape[1]]))\n",
    "print(\"mse on training set: {}, mse on testing set: {}\".format(mse_train, mse_test))"
   ]
  },
  {
   "cell_type": "markdown",
   "metadata": {},
   "source": [
    "The first baseline model is a multiple linear regression model. The county level yields (without adjusting for non-climate factors) are regressed on all climate variables. Result shows that the predictive model reduces mse by 54%. "
   ]
  },
  {
   "cell_type": "code",
   "execution_count": 34,
   "metadata": {},
   "outputs": [],
   "source": [
    "lr = LinearRegression().fit(df_train.iloc[:, 9:df_train.shape[1]], df_train['yield'])\n",
    "lr_pred = pd.Series(lr.predict(df_test.iloc[:, 9:df_test.shape[1]]), index=df_test['year'], name='fitted_yield')\n",
    "\n",
    "mse_benchmark_mlr = mean_squared_error(y_true=df_test['yield'], y_pred=lr_pred)"
   ]
  },
  {
   "cell_type": "code",
   "execution_count": 42,
   "metadata": {},
   "outputs": [
    {
     "name": "stdout",
     "output_type": "stream",
     "text": [
      "MSE of predictive model is 157.8512792487591\n",
      "MSE of benchmark model is 339.5625731142493\n",
      "The predictive reduces mse by 54.0%\n"
     ]
    }
   ],
   "source": [
    "mse_slr_gbm = mean_squared_error(y_true=df_test.iloc[:,3], y_pred=df_test.iloc[:,7] + best_gbm.predict(X = df_test.iloc[:, 9:df_test.shape[1]]))\n",
    "\n",
    "print(\"MSE of predictive model is {}\".format(mse_slr_gbm))\n",
    "print(\"MSE of benchmark mlr model is {}\".format(mse_benchmark_mlr))\n",
    "print(\"The predictive reduces mse by {}%\".format(round((1 - mse_slr_gbm/mse_benchmark_mlr) * 100), 2))"
   ]
  },
  {
   "cell_type": "markdown",
   "metadata": {},
   "source": [
    "The second baseline model is a GBM model. The county level yields (without adjusting for non-climate factors) are regressed on all climate variables. Result shows that the predictive model reduces mse by 23%."
   ]
  },
  {
   "cell_type": "code",
   "execution_count": 44,
   "metadata": {},
   "outputs": [
    {
     "name": "stdout",
     "output_type": "stream",
     "text": [
      "Fitting 5 folds for each of 9 candidates, totalling 45 fits\n"
     ]
    },
    {
     "name": "stderr",
     "output_type": "stream",
     "text": [
      "[Parallel(n_jobs=-1)]: Done  45 out of  45 | elapsed: 10.7min finished\n"
     ]
    },
    {
     "data": {
      "text/plain": [
       "GridSearchCV(cv=5, error_score='raise',\n",
       "       estimator=GradientBoostingRegressor(alpha=0.9, criterion='friedman_mse', init=None,\n",
       "             learning_rate=0.05, loss='ls', max_depth=3, max_features=None,\n",
       "             max_leaf_nodes=None, min_impurity_decrease=0.0,\n",
       "             min_impurity_split=None, min_samples_leaf=1,\n",
       "             min_samples_split=2, min_weight_fraction_leaf=0.0,\n",
       "             n_estimators=100, presort='auto', random_state=None,\n",
       "             subsample=1.0, verbose=0, warm_start=False),\n",
       "       fit_params=None, iid=True, n_jobs=-1,\n",
       "       param_grid={'n_estimators': [100, 300, 500], 'max_depth': [3, 4, 5]},\n",
       "       pre_dispatch='2*n_jobs', refit=True, return_train_score=True,\n",
       "       scoring='neg_mean_squared_error', verbose=1)"
      ]
     },
     "execution_count": 44,
     "metadata": {},
     "output_type": "execute_result"
    }
   ],
   "source": [
    "parameters = {'n_estimators': [100, 300, 500],\n",
    "              'max_depth': [3, 4, 5]}\n",
    "\n",
    "gbm_reg = GradientBoostingRegressor(loss = 'ls', learning_rate = 0.05, \n",
    "                                    criterion = 'friedman_mse')\n",
    "\n",
    "grid_search = GridSearchCV(estimator = gbm_reg, param_grid = parameters, \n",
    "                           scoring = 'neg_mean_squared_error', \n",
    "                           n_jobs = -1, verbose = 1, cv = 5, return_train_score = True)\n",
    "\n",
    "grid_search.fit(X = df_train.iloc[:, 9:df_train.shape[1]], \n",
    "                y = df_train.iloc[:, 3])"
   ]
  },
  {
   "cell_type": "code",
   "execution_count": 45,
   "metadata": {},
   "outputs": [
    {
     "data": {
      "text/plain": [
       "{'max_depth': 5, 'n_estimators': 500}"
      ]
     },
     "execution_count": 45,
     "metadata": {},
     "output_type": "execute_result"
    }
   ],
   "source": [
    "grid_search.best_params_"
   ]
  },
  {
   "cell_type": "code",
   "execution_count": 46,
   "metadata": {},
   "outputs": [
    {
     "data": {
      "text/plain": [
       "GradientBoostingRegressor(alpha=0.9, criterion='friedman_mse', init=None,\n",
       "             learning_rate=0.05, loss='ls', max_depth=5, max_features=None,\n",
       "             max_leaf_nodes=None, min_impurity_decrease=0.0,\n",
       "             min_impurity_split=None, min_samples_leaf=1,\n",
       "             min_samples_split=2, min_weight_fraction_leaf=0.0,\n",
       "             n_estimators=500, presort='auto', random_state=None,\n",
       "             subsample=1.0, verbose=0, warm_start=False)"
      ]
     },
     "execution_count": 46,
     "metadata": {},
     "output_type": "execute_result"
    }
   ],
   "source": [
    "benchmark_gbm = GradientBoostingRegressor(n_estimators = 500,  loss = 'ls', \n",
    "                                     learning_rate = 0.05, \n",
    "                                     criterion = 'friedman_mse', max_depth = 5)\n",
    "\n",
    "benchmark_gbm.fit(X = df_train.iloc[:, 9:df_train.shape[1]], y = df_train.iloc[:, 3])"
   ]
  },
  {
   "cell_type": "code",
   "execution_count": 49,
   "metadata": {},
   "outputs": [
    {
     "name": "stdout",
     "output_type": "stream",
     "text": [
      "MSE of predictive model is 157.8512792487591\n",
      "MSE of benchmark GBM model is 204.07953727183948\n",
      "The predictive reduces mse by 23.0%\n"
     ]
    }
   ],
   "source": [
    "mse_benchmark_gbm = mean_squared_error(y_true=df_test.iloc[:,3], y_pred=benchmark_gbm.predict(X = df_test.iloc[:, 9:df_test.shape[1]]))\n",
    "\n",
    "print(\"MSE of predictive model is {}\".format(mse_slr_gbm))\n",
    "print(\"MSE of benchmark GBM model is {}\".format(mse_benchmark_gbm))\n",
    "print(\"The predictive reduces mse by {}%\".format(round((1 - mse_slr_gbm/mse_benchmark_gbm) * 100), 2))"
   ]
  },
  {
   "cell_type": "markdown",
   "metadata": {},
   "source": [
    "### Insights and discussion\n",
    "Important variables in predicting corn yields are identified by examing feature importance. To understand the marginal effect of one or two features on corn yields, a partial dependence plot can be used.\n",
    "\n",
    "The most important features in predicting corn yields are: \n",
    "\n",
    "1) maximum temperature, which might be a indicator of hot weather.\n",
    "\n",
    "2) mean value of observed specific humidity\n",
    "\n",
    "3) sum of growing degree days\n",
    "\n",
    "4) maximum value of average temperature\n",
    "\n",
    "5) mean value of observed precipitation\n",
    "\n",
    "The marginal effects of these variables can be deduced from partial dependence plots. For example, in the 5th graph, it shows that when taking into account of all other climate factors, more precipitation generally leads to higher corn yields. But as long as precipitation level is above a threshold, precipitation seems to have very little marginal effect on corn yields.\n",
    "\n",
    "The 6th figure shows an example of how the interaction between two climate factors would affect corn yield, when the effect of all other variables are taken into account. The highest level of yield is attained when the mean value of specific humidity is between 0.0105 and 0.0125 and maximum temperature is between 307 and 311. "
   ]
  },
  {
   "cell_type": "code",
   "execution_count": 27,
   "metadata": {},
   "outputs": [
    {
     "data": {
      "image/png": "[encoded data removed]",
      "text/plain": [
       "<Figure size 432x288 with 1 Axes>"
      ]
     },
     "metadata": {},
     "output_type": "display_data"
    }
   ],
   "source": [
    "names = df.columns[9:]\n",
    "feature_importance = best_gbm.feature_importances_\n",
    "feature_importance = 100.0 * (feature_importance / feature_importance.max())\n",
    "sorted_idx = np.argsort(feature_importance)[::-1]\n",
    "pos = np.arange(sorted_idx.shape[0])[::-1] + .5\n",
    "plt.barh(pos[:10], feature_importance[sorted_idx[:10]], align='center')\n",
    "plt.yticks(pos[:10], names[sorted_idx[:10]])\n",
    "plt.xlabel('Relative Importance')\n",
    "plt.title('Feature Importance')\n",
    "plt.show()"
   ]
  },
  {
   "cell_type": "code",
   "execution_count": 32,
   "metadata": {
    "scrolled": true
   },
   "outputs": [
    {
     "data": {
      "image/png": "[encoded data removed]",
      "text/plain": [
       "<Figure size 432x288 with 6 Axes>"
      ]
     },
     "metadata": {},
     "output_type": "display_data"
    }
   ],
   "source": [
    "features = list(sorted_idx[:5]) + [(sorted_idx[0], sorted_idx[1])]\n",
    "fig, axs = plot_partial_dependence(best_gbm, df_train.iloc[:, 9:df_train.shape[1]], features, feature_names=names, grid_resolution=100)\n",
    "plt.subplots_adjust(top = 2, right = 2) \n",
    "plt.show()"
   ]
  },
  {
   "cell_type": "markdown",
   "metadata": {},
   "source": [
    "### Predicting 2018 corn yields\n",
    "Firstly, 2018 data is fed into GBM to predict the residuals. Then the result is added to the fitted_yield from simple linear regression."
   ]
  },
  {
   "cell_type": "code",
   "execution_count": 41,
   "metadata": {},
   "outputs": [],
   "source": [
    "df_2018['yield'] = best_gbm.predict(df_2018.iloc[:,9:]) + df_2018['fitted_yield']"
   ]
  },
  {
   "cell_type": "code",
   "execution_count": 45,
   "metadata": {
    "scrolled": true
   },
   "outputs": [
    {
     "data": {
      "text/html": [
       "<div>\n",
       "<style scoped>\n",
       "    .dataframe tbody tr th:only-of-type {\n",
       "        vertical-align: middle;\n",
       "    }\n",
       "\n",
       "    .dataframe tbody tr th {\n",
       "        vertical-align: top;\n",
       "    }\n",
       "\n",
       "    .dataframe thead th {\n",
       "        text-align: right;\n",
       "    }\n",
       "</style>\n",
       "<table border=\"1\" class=\"dataframe\">\n",
       "  <thead>\n",
       "    <tr style=\"text-align: right;\">\n",
       "      <th></th>\n",
       "      <th>adm2_code</th>\n",
       "      <th>adm1_code</th>\n",
       "      <th>year</th>\n",
       "      <th>yield</th>\n",
       "    </tr>\n",
       "  </thead>\n",
       "  <tbody>\n",
       "    <tr>\n",
       "      <th>9</th>\n",
       "      <td>US01031</td>\n",
       "      <td>US01</td>\n",
       "      <td>2018</td>\n",
       "      <td>71.465585</td>\n",
       "    </tr>\n",
       "    <tr>\n",
       "      <th>24</th>\n",
       "      <td>US01033</td>\n",
       "      <td>US01</td>\n",
       "      <td>2018</td>\n",
       "      <td>155.870370</td>\n",
       "    </tr>\n",
       "    <tr>\n",
       "      <th>40</th>\n",
       "      <td>US01049</td>\n",
       "      <td>US01</td>\n",
       "      <td>2018</td>\n",
       "      <td>140.426347</td>\n",
       "    </tr>\n",
       "    <tr>\n",
       "      <th>56</th>\n",
       "      <td>US01071</td>\n",
       "      <td>US01</td>\n",
       "      <td>2018</td>\n",
       "      <td>127.208916</td>\n",
       "    </tr>\n",
       "    <tr>\n",
       "      <th>72</th>\n",
       "      <td>US01077</td>\n",
       "      <td>US01</td>\n",
       "      <td>2018</td>\n",
       "      <td>156.292699</td>\n",
       "    </tr>\n",
       "    <tr>\n",
       "      <th>88</th>\n",
       "      <td>US01079</td>\n",
       "      <td>US01</td>\n",
       "      <td>2018</td>\n",
       "      <td>148.010020</td>\n",
       "    </tr>\n",
       "    <tr>\n",
       "      <th>104</th>\n",
       "      <td>US01083</td>\n",
       "      <td>US01</td>\n",
       "      <td>2018</td>\n",
       "      <td>147.229080</td>\n",
       "    </tr>\n",
       "    <tr>\n",
       "      <th>120</th>\n",
       "      <td>US01089</td>\n",
       "      <td>US01</td>\n",
       "      <td>2018</td>\n",
       "      <td>173.467302</td>\n",
       "    </tr>\n",
       "    <tr>\n",
       "      <th>133</th>\n",
       "      <td>US01121</td>\n",
       "      <td>US01</td>\n",
       "      <td>2018</td>\n",
       "      <td>147.793957</td>\n",
       "    </tr>\n",
       "    <tr>\n",
       "      <th>143</th>\n",
       "      <td>US05001</td>\n",
       "      <td>US05</td>\n",
       "      <td>2018</td>\n",
       "      <td>190.458745</td>\n",
       "    </tr>\n",
       "    <tr>\n",
       "      <th>154</th>\n",
       "      <td>US05003</td>\n",
       "      <td>US05</td>\n",
       "      <td>2018</td>\n",
       "      <td>202.445648</td>\n",
       "    </tr>\n",
       "    <tr>\n",
       "      <th>170</th>\n",
       "      <td>US05017</td>\n",
       "      <td>US05</td>\n",
       "      <td>2018</td>\n",
       "      <td>187.847514</td>\n",
       "    </tr>\n",
       "    <tr>\n",
       "      <th>186</th>\n",
       "      <td>US05021</td>\n",
       "      <td>US05</td>\n",
       "      <td>2018</td>\n",
       "      <td>182.448200</td>\n",
       "    </tr>\n",
       "    <tr>\n",
       "      <th>201</th>\n",
       "      <td>US05031</td>\n",
       "      <td>US05</td>\n",
       "      <td>2018</td>\n",
       "      <td>183.620735</td>\n",
       "    </tr>\n",
       "    <tr>\n",
       "      <th>214</th>\n",
       "      <td>US05035</td>\n",
       "      <td>US05</td>\n",
       "      <td>2018</td>\n",
       "      <td>179.223625</td>\n",
       "    </tr>\n",
       "    <tr>\n",
       "      <th>226</th>\n",
       "      <td>US05041</td>\n",
       "      <td>US05</td>\n",
       "      <td>2018</td>\n",
       "      <td>189.436759</td>\n",
       "    </tr>\n",
       "    <tr>\n",
       "      <th>236</th>\n",
       "      <td>US05043</td>\n",
       "      <td>US05</td>\n",
       "      <td>2018</td>\n",
       "      <td>198.318615</td>\n",
       "    </tr>\n",
       "    <tr>\n",
       "      <th>250</th>\n",
       "      <td>US05055</td>\n",
       "      <td>US05</td>\n",
       "      <td>2018</td>\n",
       "      <td>176.588402</td>\n",
       "    </tr>\n",
       "    <tr>\n",
       "      <th>275</th>\n",
       "      <td>US05067</td>\n",
       "      <td>US05</td>\n",
       "      <td>2018</td>\n",
       "      <td>176.409572</td>\n",
       "    </tr>\n",
       "    <tr>\n",
       "      <th>291</th>\n",
       "      <td>US05069</td>\n",
       "      <td>US05</td>\n",
       "      <td>2018</td>\n",
       "      <td>183.703988</td>\n",
       "    </tr>\n",
       "    <tr>\n",
       "      <th>302</th>\n",
       "      <td>US05073</td>\n",
       "      <td>US05</td>\n",
       "      <td>2018</td>\n",
       "      <td>155.199707</td>\n",
       "    </tr>\n",
       "    <tr>\n",
       "      <th>316</th>\n",
       "      <td>US05077</td>\n",
       "      <td>US05</td>\n",
       "      <td>2018</td>\n",
       "      <td>159.468198</td>\n",
       "    </tr>\n",
       "    <tr>\n",
       "      <th>326</th>\n",
       "      <td>US05079</td>\n",
       "      <td>US05</td>\n",
       "      <td>2018</td>\n",
       "      <td>182.032208</td>\n",
       "    </tr>\n",
       "    <tr>\n",
       "      <th>338</th>\n",
       "      <td>US05085</td>\n",
       "      <td>US05</td>\n",
       "      <td>2018</td>\n",
       "      <td>177.939965</td>\n",
       "    </tr>\n",
       "    <tr>\n",
       "      <th>352</th>\n",
       "      <td>US05093</td>\n",
       "      <td>US05</td>\n",
       "      <td>2018</td>\n",
       "      <td>171.518936</td>\n",
       "    </tr>\n",
       "    <tr>\n",
       "      <th>368</th>\n",
       "      <td>US05095</td>\n",
       "      <td>US05</td>\n",
       "      <td>2018</td>\n",
       "      <td>181.537213</td>\n",
       "    </tr>\n",
       "    <tr>\n",
       "      <th>384</th>\n",
       "      <td>US05107</td>\n",
       "      <td>US05</td>\n",
       "      <td>2018</td>\n",
       "      <td>176.638943</td>\n",
       "    </tr>\n",
       "    <tr>\n",
       "      <th>396</th>\n",
       "      <td>US05111</td>\n",
       "      <td>US05</td>\n",
       "      <td>2018</td>\n",
       "      <td>184.112834</td>\n",
       "    </tr>\n",
       "    <tr>\n",
       "      <th>407</th>\n",
       "      <td>US05117</td>\n",
       "      <td>US05</td>\n",
       "      <td>2018</td>\n",
       "      <td>187.003754</td>\n",
       "    </tr>\n",
       "    <tr>\n",
       "      <th>418</th>\n",
       "      <td>US05121</td>\n",
       "      <td>US05</td>\n",
       "      <td>2018</td>\n",
       "      <td>165.074951</td>\n",
       "    </tr>\n",
       "    <tr>\n",
       "      <th>...</th>\n",
       "      <td>...</td>\n",
       "      <td>...</td>\n",
       "      <td>...</td>\n",
       "      <td>...</td>\n",
       "    </tr>\n",
       "    <tr>\n",
       "      <th>18683</th>\n",
       "      <td>US55077</td>\n",
       "      <td>US55</td>\n",
       "      <td>2018</td>\n",
       "      <td>115.027202</td>\n",
       "    </tr>\n",
       "    <tr>\n",
       "      <th>18699</th>\n",
       "      <td>US55081</td>\n",
       "      <td>US55</td>\n",
       "      <td>2018</td>\n",
       "      <td>161.854618</td>\n",
       "    </tr>\n",
       "    <tr>\n",
       "      <th>18715</th>\n",
       "      <td>US55083</td>\n",
       "      <td>US55</td>\n",
       "      <td>2018</td>\n",
       "      <td>137.466669</td>\n",
       "    </tr>\n",
       "    <tr>\n",
       "      <th>18731</th>\n",
       "      <td>US55087</td>\n",
       "      <td>US55</td>\n",
       "      <td>2018</td>\n",
       "      <td>165.269937</td>\n",
       "    </tr>\n",
       "    <tr>\n",
       "      <th>18742</th>\n",
       "      <td>US55089</td>\n",
       "      <td>US55</td>\n",
       "      <td>2018</td>\n",
       "      <td>164.870526</td>\n",
       "    </tr>\n",
       "    <tr>\n",
       "      <th>18758</th>\n",
       "      <td>US55091</td>\n",
       "      <td>US55</td>\n",
       "      <td>2018</td>\n",
       "      <td>174.815318</td>\n",
       "    </tr>\n",
       "    <tr>\n",
       "      <th>18774</th>\n",
       "      <td>US55093</td>\n",
       "      <td>US55</td>\n",
       "      <td>2018</td>\n",
       "      <td>193.283243</td>\n",
       "    </tr>\n",
       "    <tr>\n",
       "      <th>18790</th>\n",
       "      <td>US55095</td>\n",
       "      <td>US55</td>\n",
       "      <td>2018</td>\n",
       "      <td>161.667757</td>\n",
       "    </tr>\n",
       "    <tr>\n",
       "      <th>18806</th>\n",
       "      <td>US55097</td>\n",
       "      <td>US55</td>\n",
       "      <td>2018</td>\n",
       "      <td>148.474314</td>\n",
       "    </tr>\n",
       "    <tr>\n",
       "      <th>18822</th>\n",
       "      <td>US55101</td>\n",
       "      <td>US55</td>\n",
       "      <td>2018</td>\n",
       "      <td>182.025312</td>\n",
       "    </tr>\n",
       "    <tr>\n",
       "      <th>18838</th>\n",
       "      <td>US55103</td>\n",
       "      <td>US55</td>\n",
       "      <td>2018</td>\n",
       "      <td>158.661440</td>\n",
       "    </tr>\n",
       "    <tr>\n",
       "      <th>18854</th>\n",
       "      <td>US55105</td>\n",
       "      <td>US55</td>\n",
       "      <td>2018</td>\n",
       "      <td>188.972338</td>\n",
       "    </tr>\n",
       "    <tr>\n",
       "      <th>18869</th>\n",
       "      <td>US55107</td>\n",
       "      <td>US55</td>\n",
       "      <td>2018</td>\n",
       "      <td>129.987514</td>\n",
       "    </tr>\n",
       "    <tr>\n",
       "      <th>18885</th>\n",
       "      <td>US55109</td>\n",
       "      <td>US55</td>\n",
       "      <td>2018</td>\n",
       "      <td>172.476823</td>\n",
       "    </tr>\n",
       "    <tr>\n",
       "      <th>18901</th>\n",
       "      <td>US55111</td>\n",
       "      <td>US55</td>\n",
       "      <td>2018</td>\n",
       "      <td>181.982465</td>\n",
       "    </tr>\n",
       "    <tr>\n",
       "      <th>18917</th>\n",
       "      <td>US55115</td>\n",
       "      <td>US55</td>\n",
       "      <td>2018</td>\n",
       "      <td>160.356841</td>\n",
       "    </tr>\n",
       "    <tr>\n",
       "      <th>18933</th>\n",
       "      <td>US55117</td>\n",
       "      <td>US55</td>\n",
       "      <td>2018</td>\n",
       "      <td>166.187440</td>\n",
       "    </tr>\n",
       "    <tr>\n",
       "      <th>18947</th>\n",
       "      <td>US55119</td>\n",
       "      <td>US55</td>\n",
       "      <td>2018</td>\n",
       "      <td>136.072065</td>\n",
       "    </tr>\n",
       "    <tr>\n",
       "      <th>18963</th>\n",
       "      <td>US55121</td>\n",
       "      <td>US55</td>\n",
       "      <td>2018</td>\n",
       "      <td>164.170155</td>\n",
       "    </tr>\n",
       "    <tr>\n",
       "      <th>18979</th>\n",
       "      <td>US55123</td>\n",
       "      <td>US55</td>\n",
       "      <td>2018</td>\n",
       "      <td>172.610044</td>\n",
       "    </tr>\n",
       "    <tr>\n",
       "      <th>18995</th>\n",
       "      <td>US55127</td>\n",
       "      <td>US55</td>\n",
       "      <td>2018</td>\n",
       "      <td>186.026076</td>\n",
       "    </tr>\n",
       "    <tr>\n",
       "      <th>19010</th>\n",
       "      <td>US55129</td>\n",
       "      <td>US55</td>\n",
       "      <td>2018</td>\n",
       "      <td>153.329169</td>\n",
       "    </tr>\n",
       "    <tr>\n",
       "      <th>19026</th>\n",
       "      <td>US55131</td>\n",
       "      <td>US55</td>\n",
       "      <td>2018</td>\n",
       "      <td>172.385194</td>\n",
       "    </tr>\n",
       "    <tr>\n",
       "      <th>19042</th>\n",
       "      <td>US55133</td>\n",
       "      <td>US55</td>\n",
       "      <td>2018</td>\n",
       "      <td>170.355930</td>\n",
       "    </tr>\n",
       "    <tr>\n",
       "      <th>19058</th>\n",
       "      <td>US55135</td>\n",
       "      <td>US55</td>\n",
       "      <td>2018</td>\n",
       "      <td>162.308171</td>\n",
       "    </tr>\n",
       "    <tr>\n",
       "      <th>19074</th>\n",
       "      <td>US55137</td>\n",
       "      <td>US55</td>\n",
       "      <td>2018</td>\n",
       "      <td>170.055867</td>\n",
       "    </tr>\n",
       "    <tr>\n",
       "      <th>19089</th>\n",
       "      <td>US55139</td>\n",
       "      <td>US55</td>\n",
       "      <td>2018</td>\n",
       "      <td>147.867735</td>\n",
       "    </tr>\n",
       "    <tr>\n",
       "      <th>19105</th>\n",
       "      <td>US55141</td>\n",
       "      <td>US55</td>\n",
       "      <td>2018</td>\n",
       "      <td>141.792922</td>\n",
       "    </tr>\n",
       "    <tr>\n",
       "      <th>19120</th>\n",
       "      <td>US56015</td>\n",
       "      <td>US56</td>\n",
       "      <td>2018</td>\n",
       "      <td>150.344230</td>\n",
       "    </tr>\n",
       "    <tr>\n",
       "      <th>19133</th>\n",
       "      <td>US56021</td>\n",
       "      <td>US56</td>\n",
       "      <td>2018</td>\n",
       "      <td>132.343028</td>\n",
       "    </tr>\n",
       "  </tbody>\n",
       "</table>\n",
       "<p>1292 rows × 4 columns</p>\n",
       "</div>"
      ],
      "text/plain": [
       "      adm2_code adm1_code  year       yield\n",
       "9       US01031      US01  2018   71.465585\n",
       "24      US01033      US01  2018  155.870370\n",
       "40      US01049      US01  2018  140.426347\n",
       "56      US01071      US01  2018  127.208916\n",
       "72      US01077      US01  2018  156.292699\n",
       "88      US01079      US01  2018  148.010020\n",
       "104     US01083      US01  2018  147.229080\n",
       "120     US01089      US01  2018  173.467302\n",
       "133     US01121      US01  2018  147.793957\n",
       "143     US05001      US05  2018  190.458745\n",
       "154     US05003      US05  2018  202.445648\n",
       "170     US05017      US05  2018  187.847514\n",
       "186     US05021      US05  2018  182.448200\n",
       "201     US05031      US05  2018  183.620735\n",
       "214     US05035      US05  2018  179.223625\n",
       "226     US05041      US05  2018  189.436759\n",
       "236     US05043      US05  2018  198.318615\n",
       "250     US05055      US05  2018  176.588402\n",
       "275     US05067      US05  2018  176.409572\n",
       "291     US05069      US05  2018  183.703988\n",
       "302     US05073      US05  2018  155.199707\n",
       "316     US05077      US05  2018  159.468198\n",
       "326     US05079      US05  2018  182.032208\n",
       "338     US05085      US05  2018  177.939965\n",
       "352     US05093      US05  2018  171.518936\n",
       "368     US05095      US05  2018  181.537213\n",
       "384     US05107      US05  2018  176.638943\n",
       "396     US05111      US05  2018  184.112834\n",
       "407     US05117      US05  2018  187.003754\n",
       "418     US05121      US05  2018  165.074951\n",
       "...         ...       ...   ...         ...\n",
       "18683   US55077      US55  2018  115.027202\n",
       "18699   US55081      US55  2018  161.854618\n",
       "18715   US55083      US55  2018  137.466669\n",
       "18731   US55087      US55  2018  165.269937\n",
       "18742   US55089      US55  2018  164.870526\n",
       "18758   US55091      US55  2018  174.815318\n",
       "18774   US55093      US55  2018  193.283243\n",
       "18790   US55095      US55  2018  161.667757\n",
       "18806   US55097      US55  2018  148.474314\n",
       "18822   US55101      US55  2018  182.025312\n",
       "18838   US55103      US55  2018  158.661440\n",
       "18854   US55105      US55  2018  188.972338\n",
       "18869   US55107      US55  2018  129.987514\n",
       "18885   US55109      US55  2018  172.476823\n",
       "18901   US55111      US55  2018  181.982465\n",
       "18917   US55115      US55  2018  160.356841\n",
       "18933   US55117      US55  2018  166.187440\n",
       "18947   US55119      US55  2018  136.072065\n",
       "18963   US55121      US55  2018  164.170155\n",
       "18979   US55123      US55  2018  172.610044\n",
       "18995   US55127      US55  2018  186.026076\n",
       "19010   US55129      US55  2018  153.329169\n",
       "19026   US55131      US55  2018  172.385194\n",
       "19042   US55133      US55  2018  170.355930\n",
       "19058   US55135      US55  2018  162.308171\n",
       "19074   US55137      US55  2018  170.055867\n",
       "19089   US55139      US55  2018  147.867735\n",
       "19105   US55141      US55  2018  141.792922\n",
       "19120   US56015      US56  2018  150.344230\n",
       "19133   US56021      US56  2018  132.343028\n",
       "\n",
       "[1292 rows x 4 columns]"
      ]
     },
     "execution_count": 45,
     "metadata": {},
     "output_type": "execute_result"
    }
   ],
   "source": [
    "df_2018[['adm2_code', 'adm1_code', 'year', 'yield']]"
   ]
  },
  {
   "cell_type": "markdown",
   "metadata": {},
   "source": [
    "### Some ideas on improving model performance\n",
    "\n",
    "1) To better estimate the effect of all non-climate variables on yields, we can try to find better proxies (other than time) and include them in linear regression.\n",
    "\n",
    "2) The GBM has overfitting problem. One idea to reduce overfitting is to further limit the depth of each tree and also decrease the learning rate. The idea is that by decreasing the depth, each tree will learn less from training data. Smaller learning rate will shrink the contribution of each tree in the final prediction. In both ways, we try to reduce the influence of a single tree on final prediction.\n",
    "\n",
    "3) More features can be created by aggregating daily observations on week or month level. The idea is that some time periods in growing season might be more important than others in yields prediction.\n",
    "\n",
    "3) By building a sequence model (RNN), the temporal info might be captured.\n",
    "\n",
    "5) Both 4 and 5 will enable real time prediction. The model can make prediction on this year's yield at any time point in this year, even with incomplete data. "
   ]
  },
  {
   "cell_type": "code",
   "execution_count": null,
   "metadata": {},
   "outputs": [],
   "source": []
  }
 ],
 "metadata": {
  "kernelspec": {
   "display_name": "Python 3",
   "language": "python",
   "name": "python3"
  },
  "language_info": {
   "codemirror_mode": {
    "name": "ipython",
    "version": 3
   },
   "file_extension": ".py",
   "mimetype": "text/x-python",
   "name": "python",
   "nbconvert_exporter": "python",
   "pygments_lexer": "ipython3",
   "version": "3.6.5"
  }
 },
 "nbformat": 4,
 "nbformat_minor": 2
}
